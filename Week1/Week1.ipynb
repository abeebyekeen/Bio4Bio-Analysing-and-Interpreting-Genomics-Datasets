{
  "nbformat": 4,
  "nbformat_minor": 0,
  "metadata": {
    "colab": {
      "provenance": [],
      "authorship_tag": "ABX9TyOBNq2BzSUeSbsUnXBTKgAi",
      "include_colab_link": true
    },
    "kernelspec": {
      "name": "python3",
      "display_name": "Python 3"
    },
    "language_info": {
      "name": "python"
    }
  },
  "cells": [
    {
      "cell_type": "markdown",
      "metadata": {
        "id": "view-in-github",
        "colab_type": "text"
      },
      "source": [
        "<a href=\"https://colab.research.google.com/github/abeebyekeen/Bio4Bio-Analysing-and-Interpreting-Genomics-Datasets/blob/main/Week1/Week1.ipynb\" target=\"_parent\"><img src=\"https://colab.research.google.com/assets/colab-badge.svg\" alt=\"Open In Colab\"/></a>"
      ]
    },
    {
      "cell_type": "markdown",
      "source": [
        "# **Bioinformatics for Biologists: Analysing and Interpreting Genomics Datasets**\n",
        "\n",
        "## **Week 1**\n"
      ],
      "metadata": {
        "id": "lhkJl6pZrvsQ"
      }
    },
    {
      "cell_type": "markdown",
      "source": [
        "- Install conda for colab"
      ],
      "metadata": {
        "id": "3HRz0DlcsBc2"
      }
    },
    {
      "cell_type": "code",
      "execution_count": 1,
      "metadata": {
        "id": "BdXnbaCCv6Zo",
        "colab": {
          "base_uri": "https://localhost:8080/"
        },
        "outputId": "8c5968e7-cdac-4f2d-fe7d-d909e7696c49"
      },
      "outputs": [
        {
          "output_type": "stream",
          "name": "stdout",
          "text": [
            "⏬ Downloading https://github.com/conda-forge/miniforge/releases/download/23.1.0-1/Mambaforge-23.1.0-1-Linux-x86_64.sh...\n",
            "📦 Installing...\n",
            "📌 Adjusting configuration...\n",
            "🩹 Patching environment...\n",
            "⏲ Done in 0:00:12\n",
            "🔁 Restarting kernel...\n"
          ]
        }
      ],
      "source": [
        "!pip install -q condacolab\n",
        "import condacolab\n",
        "condacolab.install()"
      ]
    },
    {
      "cell_type": "code",
      "source": [],
      "metadata": {
        "id": "4PB-mRZ7tYCu"
      },
      "execution_count": null,
      "outputs": []
    }
  ]
}