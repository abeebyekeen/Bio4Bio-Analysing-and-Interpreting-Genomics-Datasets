{
  "cells": [
    {
      "cell_type": "markdown",
      "metadata": {
        "colab_type": "text",
        "id": "view-in-github"
      },
      "source": [
        "<a href=\"https://colab.research.google.com/github/abeebyekeen/Bio4Bio-Analysing-and-Interpreting-Genomics-Datasets/blob/main/Week1/Week1.ipynb\" target=\"_parent\"><img src=\"https://colab.research.google.com/assets/colab-badge.svg\" alt=\"Open In Colab\"/></a>"
      ]
    },
    {
      "cell_type": "markdown",
      "metadata": {
        "id": "lhkJl6pZrvsQ"
      },
      "source": [
        "# **Bioinformatics for Biologists: Analysing and Interpreting Genomics Datasets**\n",
        "\n",
        "## **Week 1**\n"
      ]
    },
    {
      "cell_type": "markdown",
      "metadata": {
        "id": "3HRz0DlcsBc2"
      },
      "source": [
        "- Install conda for colab"
      ]
    },
    {
      "cell_type": "code",
      "execution_count": 5,
      "metadata": {
        "colab": {
          "base_uri": "https://localhost:8080/"
        },
        "id": "BdXnbaCCv6Zo",
        "outputId": "8c5968e7-cdac-4f2d-fe7d-d909e7696c49"
      },
      "outputs": [
        {
          "name": "stdout",
          "output_type": "stream",
          "text": [
            "--2023-12-02 20:35:14--  https://repo.continuum.io/miniconda/Miniconda3-latest-Linux-x86_64.sh\n",
            "Resolving repo.continuum.io (repo.continuum.io)... 104.16.246.55, 104.16.245.55, 2606:4700::6810:f537, ...\n",
            "Connecting to repo.continuum.io (repo.continuum.io)|104.16.246.55|:443... connected.\n",
            "HTTP request sent, awaiting response... 301 Moved Permanently\n",
            "Location: https://repo.anaconda.com/miniconda/Miniconda3-latest-Linux-x86_64.sh [following]\n",
            "--2023-12-02 20:35:14--  https://repo.anaconda.com/miniconda/Miniconda3-latest-Linux-x86_64.sh\n",
            "Resolving repo.anaconda.com (repo.anaconda.com)... 104.16.131.3, 104.16.130.3, 2606:4700::6810:8203, ...\n",
            "Connecting to repo.anaconda.com (repo.anaconda.com)|104.16.131.3|:443... connected.\n",
            "HTTP request sent, awaiting response... 200 OK\n",
            "Length: 120986213 (115M) [application/x-sh]\n",
            "Saving to: ‘Miniconda3-latest-Linux-x86_64.sh’\n",
            "\n",
            "Miniconda3-latest-L 100%[===================>] 115.38M  86.4MB/s    in 1.3s    \n",
            "\n",
            "2023-12-02 20:35:15 (86.4 MB/s) - ‘Miniconda3-latest-Linux-x86_64.sh’ saved [120986213/120986213]\n",
            "\n"
          ]
        }
      ],
      "source": [
        "!wget https://repo.continuum.io/miniconda/Miniconda3-latest-Linux-x86_64.sh"
      ]
    },
    {
      "cell_type": "code",
      "execution_count": 8,
      "metadata": {},
      "outputs": [
        {
          "name": "stdout",
          "output_type": "stream",
          "text": [
            "\n",
            "Welcome to Miniconda3 py311_23.10.0-1\n",
            "\n",
            "In order to continue the installation process, please review the license\n",
            "agreement.\n",
            "Please, press ENTER to continue\n",
            ">>> ======================================\n",
            "End User License Agreement - Miniconda\n",
            "======================================\n",
            "\n",
            "Copyright 2015-2023, Anaconda, Inc.\n",
            "\n",
            "All rights reserved under the 3-clause BSD License:\n",
            "\n",
            "This End User License Agreement (the \"Agreement\") is a legal agreement between y\n",
            "ou and Anaconda, Inc. (\"Anaconda\") and governs your use of Miniconda.\n",
            "\n",
            "Subject to the terms of this Agreement, Anaconda hereby grants you a non-exclusi\n",
            "ve, non-transferable license to:\n",
            "\n",
            "  * Install and use the Miniconda,\n",
            "  * Modify and create derivative works of sample source code delivered in Minico\n",
            "nda subject to the Terms of Service for the Repository (as defined hereinafter) \n",
            "available at https://www.anaconda.com/terms-of-service, and\n",
            "  * Redistribute code files in source (if provided to you by Anaconda as source)\n",
            " and binary forms, with or without modification subject to the requirements set \n",
            "forth below.\n",
            "\n",
            "Anaconda may, at its option, make available patches, workarounds or other update\n",
            "\u001b[Km--More--\u001b[m\n",
            "Do you accept the license terms? [yes|no]\n",
            ">>> "
          ]
        }
      ],
      "source": [
        "!echo \"ENTER\" | bash Miniconda3-latest-Linux-x86_64.sh"
      ]
    },
    {
      "cell_type": "code",
      "execution_count": 10,
      "metadata": {
        "colab": {
          "base_uri": "https://localhost:8080/"
        },
        "id": "4PB-mRZ7tYCu",
        "outputId": "543601cc-72fe-4255-a816-3861eba1b7bd"
      },
      "outputs": [
        {
          "name": "stdout",
          "output_type": "stream",
          "text": [
            "\n",
            "EnvironmentFileNotFound: '/workspaces/Bio4Bio-Analysing-and-Interpreting-Genomics-Datasets/MOOC.yml' file not found\n",
            "\n"
          ]
        }
      ],
      "source": [
        "!conda env update -n base -f MOOC.yml"
      ]
    },
    {
      "cell_type": "code",
      "execution_count": null,
      "metadata": {
        "id": "PCSBHjmTtpAO"
      },
      "outputs": [],
      "source": []
    },
    {
      "cell_type": "code",
      "execution_count": null,
      "metadata": {
        "id": "7khPT9rUtpJG"
      },
      "outputs": [],
      "source": []
    },
    {
      "cell_type": "code",
      "execution_count": null,
      "metadata": {
        "id": "UhpQHIDftpP9"
      },
      "outputs": [],
      "source": []
    }
  ],
  "metadata": {
    "colab": {
      "authorship_tag": "ABX9TyO1fWQqGWd5h8Vvltdz1nZZ",
      "include_colab_link": true,
      "provenance": []
    },
    "kernelspec": {
      "display_name": "Python 3 (ipykernel)",
      "language": "python",
      "name": "python3"
    },
    "language_info": {
      "codemirror_mode": {
        "name": "ipython",
        "version": 3
      },
      "file_extension": ".py",
      "mimetype": "text/x-python",
      "name": "python",
      "nbconvert_exporter": "python",
      "pygments_lexer": "ipython3",
      "version": "3.10.13"
    }
  },
  "nbformat": 4,
  "nbformat_minor": 0
}
